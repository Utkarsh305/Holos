{
 "cells": [
  {
   "cell_type": "code",
   "execution_count": 3,
   "id": "6ba97717-12e2-4aa1-9f8a-08ef1a9a9571",
   "metadata": {},
   "outputs": [
    {
     "name": "stdout",
     "output_type": "stream",
     "text": [
      " * Serving Flask app 'server'\n",
      " * Debug mode: on\n",
      "\u001b[31m\u001b[1mWARNING: This is a development server. Do not use it in a production deployment. Use a production WSGI server instead.\u001b[0m\n",
      " * Running on http://127.0.0.1:8000\n",
      "\u001b[33mPress CTRL+C to quit\u001b[0m\n",
      " * Restarting with stat\n",
      " * Debugger is active!\n",
      " * Debugger PIN: 203-574-071\n",
      "^C\n"
     ]
    }
   ],
   "source": [
    "# !pip3 install flask\n",
    "# !python3 server.py"
   ]
  },
  {
   "cell_type": "code",
   "execution_count": 1,
   "id": "d0fcb59f-f0ea-465c-ad79-9219aaf73e29",
   "metadata": {},
   "outputs": [],
   "source": [
    "import pandas as pd\n",
    "import service\n",
    "from cassandra.cluster import Cluster"
   ]
  },
  {
   "cell_type": "code",
   "execution_count": 34,
   "id": "befb91e1-2733-41f8-bf9b-58a042aeaf6d",
   "metadata": {},
   "outputs": [],
   "source": [
    "db = service.CassDB()\n",
    "subjects = [\"cs\",\"math\", \"data science\", \"music\", \"art\"]\n",
    "times = [i for i in range(10)]\n",
    "topics = [\"os\",\"linear algebra\",\"big data\", \"guitar\", \"photography\"]\n",
    "\n",
    "for i in range(len(subjects)):\n",
    "    for j in range(random.randint(0,5)):\n",
    "        db.insert(subjects[i], topics[i], str(j), 12)\n"
   ]
  },
  {
   "cell_type": "code",
   "execution_count": 29,
   "id": "1b3ea326-c5ce-412d-8ba5-74d0859ecbea",
   "metadata": {},
   "outputs": [
    {
     "data": {
      "text/plain": [
       "{'computer science': 3, 'data science': 3, 'art': 3, 'artistic': 1, 'music': 1}"
      ]
     },
     "execution_count": 29,
     "metadata": {},
     "output_type": "execute_result"
    }
   ],
   "source": [
    "df = pd.DataFrame(db.session.execute(\" SELECT subject,count(*) as cnt FROM user.preference GROUP BY subject\"))\n",
    "dc = {row['subject']: row['cnt'] for _, row in df.iterrows()}\n",
    "top_n = sorted(dc, key=dc.get, reverse=True)[:5]\n",
    "top_n_dict = {key: dc[key] for key in top_n}\n",
    "top_n_dict"
   ]
  },
  {
   "cell_type": "code",
   "execution_count": 37,
   "id": "97745914-dc25-42db-ab95-9df92e1f2889",
   "metadata": {},
   "outputs": [
    {
     "data": {
      "text/plain": [
       "{'operating system': 3}"
      ]
     },
     "execution_count": 37,
     "metadata": {},
     "output_type": "execute_result"
    }
   ],
   "source": [
    "df = pd.DataFrame(db.session.execute(\"\"\"SELECT topic,count(*) as cnt FROM user.preference where subject = 'computer science' GROUP BY topic \"\"\"))\n",
    "dc = {row['topic']: row['cnt'] for _, row in df.iterrows()}\n",
    "top_n = sorted(dc, key=dc.get, reverse=True)[:5]\n",
    "top_n_dict = {key: dc[key] for key in top_n}\n",
    "top_n_dict"
   ]
  },
  {
   "cell_type": "code",
   "execution_count": 31,
   "id": "5fe95bac-1b83-406b-8275-a7ea30991395",
   "metadata": {},
   "outputs": [
    {
     "data": {
      "text/plain": [
       "<cassandra.cluster.ResultSet at 0x7f31482025f0>"
      ]
     },
     "execution_count": 31,
     "metadata": {},
     "output_type": "execute_result"
    }
   ],
   "source": [
    "db.session.execute(\"\"\" SELECT topic,count(*) as cnt FROM user.preference where subject = 'computer science' GROUP BY topic \"\"\")"
   ]
  },
  {
   "cell_type": "code",
   "execution_count": 35,
   "id": "db612b7d-3b35-4d01-ae77-085dbe2bc06c",
   "metadata": {},
   "outputs": [
    {
     "data": {
      "text/html": [
       "<div>\n",
       "<style scoped>\n",
       "    .dataframe tbody tr th:only-of-type {\n",
       "        vertical-align: middle;\n",
       "    }\n",
       "\n",
       "    .dataframe tbody tr th {\n",
       "        vertical-align: top;\n",
       "    }\n",
       "\n",
       "    .dataframe thead th {\n",
       "        text-align: right;\n",
       "    }\n",
       "</style>\n",
       "<table border=\"1\" class=\"dataframe\">\n",
       "  <thead>\n",
       "    <tr style=\"text-align: right;\">\n",
       "      <th></th>\n",
       "      <th>subject</th>\n",
       "      <th>topic</th>\n",
       "      <th>id</th>\n",
       "      <th>duration</th>\n",
       "    </tr>\n",
       "  </thead>\n",
       "  <tbody>\n",
       "    <tr>\n",
       "      <th>0</th>\n",
       "      <td>computer science</td>\n",
       "      <td>operating system</td>\n",
       "      <td>0</td>\n",
       "      <td>12</td>\n",
       "    </tr>\n",
       "    <tr>\n",
       "      <th>1</th>\n",
       "      <td>computer science</td>\n",
       "      <td>operating system</td>\n",
       "      <td>1</td>\n",
       "      <td>12</td>\n",
       "    </tr>\n",
       "    <tr>\n",
       "      <th>2</th>\n",
       "      <td>computer science</td>\n",
       "      <td>operating system</td>\n",
       "      <td>2</td>\n",
       "      <td>12</td>\n",
       "    </tr>\n",
       "    <tr>\n",
       "      <th>3</th>\n",
       "      <td>music</td>\n",
       "      <td>guitar</td>\n",
       "      <td>0</td>\n",
       "      <td>12</td>\n",
       "    </tr>\n",
       "    <tr>\n",
       "      <th>4</th>\n",
       "      <td>music</td>\n",
       "      <td>guitar</td>\n",
       "      <td>1</td>\n",
       "      <td>12</td>\n",
       "    </tr>\n",
       "    <tr>\n",
       "      <th>5</th>\n",
       "      <td>music</td>\n",
       "      <td>guitar</td>\n",
       "      <td>2</td>\n",
       "      <td>12</td>\n",
       "    </tr>\n",
       "    <tr>\n",
       "      <th>6</th>\n",
       "      <td>data science</td>\n",
       "      <td>big data</td>\n",
       "      <td>0</td>\n",
       "      <td>12</td>\n",
       "    </tr>\n",
       "    <tr>\n",
       "      <th>7</th>\n",
       "      <td>data science</td>\n",
       "      <td>big data</td>\n",
       "      <td>1</td>\n",
       "      <td>12</td>\n",
       "    </tr>\n",
       "    <tr>\n",
       "      <th>8</th>\n",
       "      <td>data science</td>\n",
       "      <td>big data</td>\n",
       "      <td>2</td>\n",
       "      <td>12</td>\n",
       "    </tr>\n",
       "    <tr>\n",
       "      <th>9</th>\n",
       "      <td>data science</td>\n",
       "      <td>big data</td>\n",
       "      <td>3</td>\n",
       "      <td>12</td>\n",
       "    </tr>\n",
       "    <tr>\n",
       "      <th>10</th>\n",
       "      <td>mathematics</td>\n",
       "      <td>linear algebra</td>\n",
       "      <td>0</td>\n",
       "      <td>12</td>\n",
       "    </tr>\n",
       "    <tr>\n",
       "      <th>11</th>\n",
       "      <td>mathematics</td>\n",
       "      <td>linear algebra</td>\n",
       "      <td>1</td>\n",
       "      <td>12</td>\n",
       "    </tr>\n",
       "    <tr>\n",
       "      <th>12</th>\n",
       "      <td>mathematics</td>\n",
       "      <td>linear algebra</td>\n",
       "      <td>2</td>\n",
       "      <td>12</td>\n",
       "    </tr>\n",
       "    <tr>\n",
       "      <th>13</th>\n",
       "      <td>art</td>\n",
       "      <td>photography</td>\n",
       "      <td>0</td>\n",
       "      <td>12</td>\n",
       "    </tr>\n",
       "    <tr>\n",
       "      <th>14</th>\n",
       "      <td>art</td>\n",
       "      <td>photography</td>\n",
       "      <td>1</td>\n",
       "      <td>12</td>\n",
       "    </tr>\n",
       "  </tbody>\n",
       "</table>\n",
       "</div>"
      ],
      "text/plain": [
       "             subject             topic id  duration\n",
       "0   computer science  operating system  0        12\n",
       "1   computer science  operating system  1        12\n",
       "2   computer science  operating system  2        12\n",
       "3              music            guitar  0        12\n",
       "4              music            guitar  1        12\n",
       "5              music            guitar  2        12\n",
       "6       data science          big data  0        12\n",
       "7       data science          big data  1        12\n",
       "8       data science          big data  2        12\n",
       "9       data science          big data  3        12\n",
       "10       mathematics    linear algebra  0        12\n",
       "11       mathematics    linear algebra  1        12\n",
       "12       mathematics    linear algebra  2        12\n",
       "13               art       photography  0        12\n",
       "14               art       photography  1        12"
      ]
     },
     "execution_count": 35,
     "metadata": {},
     "output_type": "execute_result"
    }
   ],
   "source": [
    "pd.DataFrame(db.session.execute(\"select * from user.preference\"))"
   ]
  },
  {
   "cell_type": "code",
   "execution_count": 38,
   "id": "5f8646b9-d7bc-4e4b-9c6e-76868b5b2e4b",
   "metadata": {},
   "outputs": [],
   "source": [
    "import requests\n",
    "import json\n",
    "import random"
   ]
  },
  {
   "cell_type": "code",
   "execution_count": 67,
   "id": "9a9ef818",
   "metadata": {},
   "outputs": [
    {
     "name": "stdout",
     "output_type": "stream",
     "text": [
      "Status Code: 200\n",
      "Status Code: 200\n",
      "Status Code: 200\n",
      "Status Code: 200\n",
      "Status Code: 200\n",
      "Status Code: 200\n",
      "Status Code: 200\n",
      "Status Code: 200\n"
     ]
    }
   ],
   "source": [
    "url = 'http://127.0.0.1:8000/insert' \n",
    "\n",
    "subjects = [\"cs\",\"math\", \"data science\", \"music\", \"art\"]\n",
    "times = [i for i in range(10)]\n",
    "topics = [\"os\",\"linear algebra\",\"big data\", \"guitar\", \"photography\"]\n",
    "\n",
    "for i in range(len(subjects)):\n",
    "    for j in range(random.randint(0,5)):\n",
    "        data = {\n",
    "            'subject': str(subjects[i]),\n",
    "            'topic':str(topics[i]),\n",
    "            'id': str(j),\n",
    "            'duration': '12',\n",
    "        }\n",
    "        json_data = json.dumps(data)\n",
    "        headers = {'Content-Type': 'application/json'}\n",
    "\n",
    "        response = requests.post(url, data=json_data, headers=headers)\n",
    "        print('Status Code:', response.status_code)"
   ]
  },
  {
   "cell_type": "code",
   "execution_count": 57,
   "id": "8a29c230-8bf9-4406-a955-eaf607301e47",
   "metadata": {},
   "outputs": [
    {
     "name": "stdout",
     "output_type": "stream",
     "text": [
      "Status Code: 200\n",
      "Response Body: Top N subjects: {'music': 5, 'computer science': 2, 'data science': 2, 'mathematics': 2}\n"
     ]
    }
   ],
   "source": [
    "url = 'http://127.0.0.1:8000/topn'\n",
    "\n",
    "params = {\n",
    "    'n':'5'\n",
    "}\n",
    "\n",
    "response = requests.get(url, params=params)\n",
    "\n",
    "print('Status Code:', response.status_code)\n",
    "print('Response Body:', response.text)"
   ]
  },
  {
   "cell_type": "code",
   "execution_count": 66,
   "id": "8a8f48fa-e118-41df-ba38-efe51c361332",
   "metadata": {},
   "outputs": [
    {
     "name": "stdout",
     "output_type": "stream",
     "text": [
      "Status Code: 200\n",
      "Response Body: Top N topics in computer science: {'operating system': 2}\n"
     ]
    }
   ],
   "source": [
    "url = 'http://127.0.0.1:8000/topntopic'\n",
    "\n",
    "params = {\n",
    "    'subject':'computer science',\n",
    "    'n':'3'\n",
    "}\n",
    "\n",
    "response = requests.get(url, params=params)\n",
    "\n",
    "print('Status Code:', response.status_code)\n",
    "print('Response Body:', response.text)"
   ]
  }
 ],
 "metadata": {
  "kernelspec": {
   "display_name": "Python 3 (ipykernel)",
   "language": "python",
   "name": "python3"
  },
  "language_info": {
   "codemirror_mode": {
    "name": "ipython",
    "version": 3
   },
   "file_extension": ".py",
   "mimetype": "text/x-python",
   "name": "python",
   "nbconvert_exporter": "python",
   "pygments_lexer": "ipython3",
   "version": "3.10.12"
  }
 },
 "nbformat": 4,
 "nbformat_minor": 5
}
